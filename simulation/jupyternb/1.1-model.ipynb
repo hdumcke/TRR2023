{
 "cells": [
  {
   "cell_type": "markdown",
   "id": "0c0130a5-196d-411b-990c-2d89db518edc",
   "metadata": {},
   "source": [
    "# Creating a 3D Model\n",
    "\n",
    "We use Build123d to create a #D model of the race track. We export the 3D model as a stl file for lagter import into Gazebo.\n",
    "\n",
    "We also export a 2D projection as svg file. We use Inkskape to convert the svg file to a pgn file and then Image Magic to convert the png file to a pgm file. Adding some meta data will provide us with a map thatb we can use in Nav2"
   ]
  },
  {
   "cell_type": "code",
   "execution_count": 61,
   "id": "1449891f-9092-4296-bedf-715390d62d02",
   "metadata": {},
   "outputs": [],
   "source": [
    "from jupyter_cadquery import show, open_viewer, set_defaults\n",
    "import cadquery as cq\n",
    "from build123d import *\n",
    "cv = open_viewer(\"Build123d\", cad_width=770, glass=True)\n",
    "set_defaults(edge_accuracy=0.0001)"
   ]
  },
  {
   "cell_type": "code",
   "execution_count": 62,
   "id": "06354f0e-c05f-45bf-a905-0518eba55af6",
   "metadata": {},
   "outputs": [],
   "source": [
    "length = 1000\n",
    "width = 551\n",
    "\n",
    "wall_hight = 20\n",
    "wall_thick = 2\n",
    "\n",
    "with BuildPart() as p:\n",
    "    Box(length, width, wall_hight)\n",
    "    Box(length - wall_thick, width - wall_thick, wall_hight, mode=Mode.SUBTRACT)"
   ]
  },
  {
   "cell_type": "code",
   "execution_count": 63,
   "id": "ae681a1d-75f6-44fb-830d-6337d05fcc4a",
   "metadata": {},
   "outputs": [],
   "source": [
    "assembly = Compound(children=[p.part])"
   ]
  },
  {
   "cell_type": "code",
   "execution_count": 64,
   "id": "5dcf729a-9332-4443-a272-c6f7f5dff122",
   "metadata": {},
   "outputs": [],
   "source": [
    "assembly"
   ]
  },
  {
   "cell_type": "code",
   "execution_count": 65,
   "id": "44d0aa7c-a570-4906-8b8f-611d74061b2d",
   "metadata": {},
   "outputs": [
    {
     "data": {
      "text/plain": [
       "True"
      ]
     },
     "execution_count": 65,
     "metadata": {},
     "output_type": "execute_result"
    }
   ],
   "source": [
    "assembly.export_stl('square.stl')"
   ]
  },
  {
   "cell_type": "code",
   "execution_count": 66,
   "id": "5c77e7d3-6e33-47b5-974f-86a50e010ff9",
   "metadata": {},
   "outputs": [],
   "source": [
    "assembly.export_svg('square.svg', (0, 0, 1000000), (0, 1, 0), \n",
    "                          svg_opts={\"pixel_scale\": 1, \"margin_left\": 0, \"margin_top\": 0,\"show_axes\": False, \"show_hidden\": False})"
   ]
  },
  {
   "cell_type": "code",
   "execution_count": 67,
   "id": "eed95ced-a1ef-425e-ac0a-1717001b5a35",
   "metadata": {},
   "outputs": [],
   "source": [
    "import xml.etree.ElementTree as ET\n",
    "tree = ET.parse('square.svg')\n",
    "root = tree.getroot()\n",
    "dim = root.attrib"
   ]
  },
  {
   "cell_type": "code",
   "execution_count": 68,
   "id": "b506b885-cb51-4532-82a8-0af8e6894001",
   "metadata": {},
   "outputs": [],
   "source": [
    "!convert square.svg square.png"
   ]
  },
  {
   "cell_type": "code",
   "execution_count": 69,
   "id": "ce277a9b-9065-42c8-9f85-b96cb98d00d7",
   "metadata": {},
   "outputs": [],
   "source": [
    "!convert square.png -flatten square.pgm"
   ]
  },
  {
   "cell_type": "code",
   "execution_count": 70,
   "id": "d185b4a3-2d5a-42c7-a912-7cbc9e784cd2",
   "metadata": {},
   "outputs": [],
   "source": [
    "metadata = {\n",
    "    \"image\": \"square.pgm\",\n",
    "    \"resolution\": 0.01,\n",
    "    \"origin\": [0.0, 0.0, 0.0],\n",
    "    \"occupied_thresh\": 0.65,\n",
    "    \"free_thresh\": 0.196,\n",
    "    \"negate\": 0\n",
    "}"
   ]
  },
  {
   "cell_type": "code",
   "execution_count": 71,
   "id": "f349a678-9f5a-406d-b37a-368131b4c7a7",
   "metadata": {},
   "outputs": [
    {
     "data": {
      "text/plain": [
       "{'image': 'square.pgm',\n",
       " 'resolution': 0.01,\n",
       " 'origin': [0.0, 0.0, 0.0],\n",
       " 'occupied_thresh': 0.65,\n",
       " 'free_thresh': 0.196,\n",
       " 'negate': 0}"
      ]
     },
     "execution_count": 71,
     "metadata": {},
     "output_type": "execute_result"
    }
   ],
   "source": [
    "metadata"
   ]
  },
  {
   "cell_type": "code",
   "execution_count": 72,
   "id": "5a7885ac-c485-46c3-ab47-56609aabd0cf",
   "metadata": {},
   "outputs": [],
   "source": [
    "import yaml\n",
    "with open(\"square.yaml\", \"w\") as fh:\n",
    "    yaml.dump(metadata, fh)"
   ]
  }
 ],
 "metadata": {
  "kernelspec": {
   "display_name": "Python 3 (ipykernel)",
   "language": "python",
   "name": "python3"
  },
  "language_info": {
   "codemirror_mode": {
    "name": "ipython",
    "version": 3
   },
   "file_extension": ".py",
   "mimetype": "text/x-python",
   "name": "python",
   "nbconvert_exporter": "python",
   "pygments_lexer": "ipython3",
   "version": "3.11.3"
  }
 },
 "nbformat": 4,
 "nbformat_minor": 5
}
