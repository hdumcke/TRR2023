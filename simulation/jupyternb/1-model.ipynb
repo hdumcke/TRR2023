{
 "cells": [
  {
   "cell_type": "markdown",
   "id": "0c0130a5-196d-411b-990c-2d89db518edc",
   "metadata": {},
   "source": [
    "# Creating a 3D Model\n",
    "\n",
    "We use Build123d to create a #D model of the race track. We export the 3D model as a stl file for lagter import into Gazebo.\n",
    "\n",
    "We also export a 2D projection as svg file. We use Inkskape to convert the svg file to a pgn file and then Image Magic to convert the png file to a pgm file. Adding some meta data will provide us with a map thatb we can use in Nav2"
   ]
  },
  {
   "cell_type": "code",
   "execution_count": 1,
   "id": "1449891f-9092-4296-bedf-715390d62d02",
   "metadata": {},
   "outputs": [
    {
     "name": "stdout",
     "output_type": "stream",
     "text": [
      "Overwriting auto display for cadquery Workplane and Shape\n"
     ]
    }
   ],
   "source": [
    "from jupyter_cadquery import show, open_viewer, set_defaults\n",
    "import cadquery as cq\n",
    "from build123d import *\n",
    "cv = open_viewer(\"Build123d\", cad_width=770, glass=True)\n",
    "set_defaults(edge_accuracy=0.0001)"
   ]
  },
  {
   "cell_type": "code",
   "execution_count": 2,
   "id": "06354f0e-c05f-45bf-a905-0518eba55af6",
   "metadata": {},
   "outputs": [],
   "source": [
    "class SideWall():\n",
    "    \n",
    "    def __init__(self, whichWall):\n",
    "        ext_r = 150\n",
    "        int_r = 50\n",
    "        lenght = 1000\n",
    "        width = 551\n",
    "\n",
    "        len1 = 700\n",
    "        arc1 = 180\n",
    "        len2 = 150\n",
    "        arc2 = -90\n",
    "        len3 = 50\n",
    "        arc3 = 360 - 168.2\n",
    "        len3 = 50\n",
    "        len4 = 58.78\n",
    "        arc4 = -122.2\n",
    "        len5 = 103.05\n",
    "        arc5 = 360 - 159.6\n",
    "\n",
    "        wall_hight = 20\n",
    "        wall_thick = 2\n",
    "        \n",
    "        if whichWall == 'ext':\n",
    "            r1 = ext_r\n",
    "            r2 = int_r\n",
    "        else:\n",
    "            r1 = int_r\n",
    "            r2 = ext_r\n",
    "\n",
    "        with BuildPart() as self.p:\n",
    "            with BuildLine() as self.l:\n",
    "                base_line = Line((0,0),(len1,0))\n",
    "                rigth_curve = JernArc(start=base_line @ 1, tangent=base_line % 1, radius=r1, arc_size=arc1)\n",
    "                line2 = PolarLine(rigth_curve @ 1, len2, direction=rigth_curve % 1)\n",
    "                rigth_upper_curve = JernArc(start=line2 @ 1, tangent=line2 % 1, radius=r2, arc_size=arc2)\n",
    "                line3 = PolarLine(rigth_upper_curve @ 1, len3, direction=rigth_upper_curve%1)\n",
    "                upper_curve = JernArc(start=line3 @ 1, tangent=line3 % 1, radius=r1, arc_size=arc3)\n",
    "                line4 = PolarLine(upper_curve @ 1, len4, direction=upper_curve%1)\n",
    "                rigth_upper_curve = JernArc(start=line4 @ 1, tangent=line4%1, radius=r2, arc_size=arc4)\n",
    "                line5 = PolarLine(rigth_upper_curve @ 1, len5, direction=rigth_upper_curve%1)\n",
    "                left_curve = JernArc(start=line5 @ 1, tangent=line5%1, radius=r1, arc_size=arc5)\n",
    "            with BuildSketch(Plane.XZ) as s:\n",
    "                Rectangle(wall_thick, wall_hight, align=(Align.MAX, Align.MAX))\n",
    "            sweep(is_frenet=True)"
   ]
  },
  {
   "cell_type": "code",
   "execution_count": 3,
   "id": "ae681a1d-75f6-44fb-830d-6337d05fcc4a",
   "metadata": {},
   "outputs": [],
   "source": [
    "p_int = SideWall('int')\n",
    "p_ext = SideWall('ext')"
   ]
  },
  {
   "cell_type": "code",
   "execution_count": 4,
   "id": "946d404b-ee1d-4ddc-845f-63353f9379d3",
   "metadata": {},
   "outputs": [],
   "source": [
    "p_int.p.part.label = \"internal wall\"\n",
    "p_int.p.part.location = Location((0, 100, 0))\n",
    "p_ext.p.part.label = \"external wall\"\n",
    "\n",
    "piste_assembly = Compound(label=\"piste\", children=[p_int.p.part, p_ext.p.part])"
   ]
  },
  {
   "cell_type": "code",
   "execution_count": 5,
   "id": "ab267bbd-5e2e-47f7-a3d1-9ebd77a3b6c4",
   "metadata": {},
   "outputs": [
    {
     "name": "stdout",
     "output_type": "stream",
     "text": [
      "piste             Compound at 0x1ac453450, Location(p=(0.00, 0.00, 0.00), o=(-0.00, 0.00, -0.00))\n",
      "├── internal wall Part     at 0x11330dc50, Location(p=(0.00, 100.00, 0.00), o=(-0.00, 0.00, -0.00))\n",
      "└── external wall Part     at 0x1b05f3d90, Location(p=(0.00, 0.00, 0.00), o=(-0.00, 0.00, -0.00))\n",
      "\n"
     ]
    }
   ],
   "source": [
    "print(piste_assembly.show_topology())\n"
   ]
  },
  {
   "cell_type": "code",
   "execution_count": 6,
   "id": "75791eb3-8be3-45f6-a39a-d5e087863f6a",
   "metadata": {},
   "outputs": [
    {
     "name": "stdout",
     "output_type": "stream",
     "text": [
      "100% ⋮————————————————————————————————————————————————————————————⋮ (2/2)  0.18s\n"
     ]
    }
   ],
   "source": [
    "piste_assembly"
   ]
  },
  {
   "cell_type": "code",
   "execution_count": 7,
   "id": "44d0aa7c-a570-4906-8b8f-611d74061b2d",
   "metadata": {},
   "outputs": [
    {
     "name": "stdout",
     "output_type": "stream",
     "text": [
      "\u001b[33;1mWarning: 27 faces have been skipped due to null triangulation\u001b[0m\n"
     ]
    },
    {
     "data": {
      "text/plain": [
       "True"
      ]
     },
     "execution_count": 7,
     "metadata": {},
     "output_type": "execute_result"
    }
   ],
   "source": [
    "piste_assembly.export_stl('piste.stl')"
   ]
  },
  {
   "cell_type": "code",
   "execution_count": 8,
   "id": "86206c25-e1de-4810-b698-a6d21aa77815",
   "metadata": {},
   "outputs": [],
   "source": [
    "piste_assembly.export_svg('piste.svg', (0, 0, 1000000), (0, 1, 0), \n",
    "                          svg_opts={\"pixel_scale\": 1, \"margin_left\": 0, \"margin_top\": 0,\"show_axes\": False, \"show_hidden\": False})"
   ]
  },
  {
   "cell_type": "code",
   "execution_count": 9,
   "id": "eed95ced-a1ef-425e-ac0a-1717001b5a35",
   "metadata": {},
   "outputs": [],
   "source": [
    "import xml.etree.ElementTree as ET\n",
    "tree = ET.parse('piste.svg')\n",
    "root = tree.getroot()\n",
    "dim = root.attrib"
   ]
  },
  {
   "cell_type": "code",
   "execution_count": 10,
   "id": "e4417f6e-bd2c-4637-8ee6-aa3ea7d733dc",
   "metadata": {},
   "outputs": [
    {
     "data": {
      "text/plain": [
       "0"
      ]
     },
     "execution_count": 10,
     "metadata": {},
     "output_type": "execute_result"
    }
   ],
   "source": [
    "import os\n",
    "cmd = \"inkscape -w %s -h %s piste.svg -o piste.png\" % (dim['width'], dim['height'])\n",
    "os.system(cmd)"
   ]
  },
  {
   "cell_type": "code",
   "execution_count": 11,
   "id": "b506b885-cb51-4532-82a8-0af8e6894001",
   "metadata": {},
   "outputs": [],
   "source": [
    "!convert piste.png -flatten piste.pgm"
   ]
  },
  {
   "cell_type": "code",
   "execution_count": 12,
   "id": "d185b4a3-2d5a-42c7-a912-7cbc9e784cd2",
   "metadata": {},
   "outputs": [],
   "source": [
    "metadata = {\n",
    "    \"image\": \"piste.pgm\",\n",
    "    \"resolution\": 0.01,\n",
    "    \"origin\": [0.0, 0.0, 0.0],\n",
    "    \"occupied_thresh\": 0.65,\n",
    "    \"free_thresh\": 0.196,\n",
    "    \"negate\": 0\n",
    "}"
   ]
  },
  {
   "cell_type": "code",
   "execution_count": 13,
   "id": "f349a678-9f5a-406d-b37a-368131b4c7a7",
   "metadata": {},
   "outputs": [
    {
     "data": {
      "text/plain": [
       "{'image': 'piste.pgm',\n",
       " 'resolution': 0.01,\n",
       " 'origin': [0.0, 0.0, 0.0],\n",
       " 'occupied_thresh': 0.65,\n",
       " 'free_thresh': 0.196,\n",
       " 'negate': 0}"
      ]
     },
     "execution_count": 13,
     "metadata": {},
     "output_type": "execute_result"
    }
   ],
   "source": [
    "metadata"
   ]
  },
  {
   "cell_type": "code",
   "execution_count": null,
   "id": "5a7885ac-c485-46c3-ab47-56609aabd0cf",
   "metadata": {},
   "outputs": [],
   "source": [
    "import yaml\n",
    "with open(\"piste.yaml\", \"w\") as fh:\n",
    "    yaml.dump(metadata, fh)"
   ]
  }
 ],
 "metadata": {
  "kernelspec": {
   "display_name": "Python 3 (ipykernel)",
   "language": "python",
   "name": "python3"
  },
  "language_info": {
   "codemirror_mode": {
    "name": "ipython",
    "version": 3
   },
   "file_extension": ".py",
   "mimetype": "text/x-python",
   "name": "python",
   "nbconvert_exporter": "python",
   "pygments_lexer": "ipython3",
   "version": "3.11.3"
  }
 },
 "nbformat": 4,
 "nbformat_minor": 5
}
